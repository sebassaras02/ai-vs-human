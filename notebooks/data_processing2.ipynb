{
 "cells": [
  {
   "cell_type": "code",
   "execution_count": 1,
   "metadata": {},
   "outputs": [],
   "source": [
    "%load_ext autoreload\n",
    "%autoreload 2"
   ]
  },
  {
   "cell_type": "code",
   "execution_count": 2,
   "metadata": {},
   "outputs": [],
   "source": [
    "import numpy as np\n",
    "import pandas as pd\n",
    "import sys"
   ]
  },
  {
   "cell_type": "code",
   "execution_count": 3,
   "metadata": {},
   "outputs": [],
   "source": [
    "sys.path.append('../src')"
   ]
  },
  {
   "cell_type": "code",
   "execution_count": 4,
   "metadata": {},
   "outputs": [],
   "source": [
    "df = pd.read_parquet('../data/AI_Human_cleaned.parquet')"
   ]
  },
  {
   "cell_type": "code",
   "execution_count": 13,
   "metadata": {},
   "outputs": [],
   "source": [
    "from utils.text_features import FeatureTextExtraction"
   ]
  },
  {
   "cell_type": "code",
   "execution_count": 25,
   "metadata": {},
   "outputs": [],
   "source": [
    "feature_extractor = FeatureTextExtraction()"
   ]
  },
  {
   "cell_type": "code",
   "execution_count": 26,
   "metadata": {},
   "outputs": [],
   "source": [
    "df_final = feature_extractor.fit_transform(df)"
   ]
  },
  {
   "cell_type": "code",
   "execution_count": 27,
   "metadata": {},
   "outputs": [
    {
     "data": {
      "text/html": [
       "<div>\n",
       "<style scoped>\n",
       "    .dataframe tbody tr th:only-of-type {\n",
       "        vertical-align: middle;\n",
       "    }\n",
       "\n",
       "    .dataframe tbody tr th {\n",
       "        vertical-align: top;\n",
       "    }\n",
       "\n",
       "    .dataframe thead th {\n",
       "        text-align: right;\n",
       "    }\n",
       "</style>\n",
       "<table border=\"1\" class=\"dataframe\">\n",
       "  <thead>\n",
       "    <tr style=\"text-align: right;\">\n",
       "      <th></th>\n",
       "      <th>dim1</th>\n",
       "      <th>dim2</th>\n",
       "      <th>dim3</th>\n",
       "      <th>dim4</th>\n",
       "      <th>dim5</th>\n",
       "    </tr>\n",
       "  </thead>\n",
       "  <tbody>\n",
       "    <tr>\n",
       "      <th>0</th>\n",
       "      <td>-0.120500</td>\n",
       "      <td>-0.189132</td>\n",
       "      <td>-0.020649</td>\n",
       "      <td>0.231255</td>\n",
       "      <td>0.089698</td>\n",
       "    </tr>\n",
       "    <tr>\n",
       "      <th>1</th>\n",
       "      <td>-0.018106</td>\n",
       "      <td>-0.030622</td>\n",
       "      <td>0.239225</td>\n",
       "      <td>-0.197513</td>\n",
       "      <td>0.029345</td>\n",
       "    </tr>\n",
       "    <tr>\n",
       "      <th>2</th>\n",
       "      <td>-0.073475</td>\n",
       "      <td>-0.054289</td>\n",
       "      <td>0.149792</td>\n",
       "      <td>-0.241656</td>\n",
       "      <td>-0.032967</td>\n",
       "    </tr>\n",
       "    <tr>\n",
       "      <th>3</th>\n",
       "      <td>-0.218399</td>\n",
       "      <td>-0.342125</td>\n",
       "      <td>-0.273788</td>\n",
       "      <td>0.015312</td>\n",
       "      <td>-0.091625</td>\n",
       "    </tr>\n",
       "    <tr>\n",
       "      <th>4</th>\n",
       "      <td>-0.026885</td>\n",
       "      <td>-0.143897</td>\n",
       "      <td>0.078570</td>\n",
       "      <td>0.298427</td>\n",
       "      <td>0.014897</td>\n",
       "    </tr>\n",
       "    <tr>\n",
       "      <th>...</th>\n",
       "      <td>...</td>\n",
       "      <td>...</td>\n",
       "      <td>...</td>\n",
       "      <td>...</td>\n",
       "      <td>...</td>\n",
       "    </tr>\n",
       "    <tr>\n",
       "      <th>39995</th>\n",
       "      <td>-0.063457</td>\n",
       "      <td>-0.052466</td>\n",
       "      <td>0.167950</td>\n",
       "      <td>-0.143063</td>\n",
       "      <td>0.240022</td>\n",
       "    </tr>\n",
       "    <tr>\n",
       "      <th>39996</th>\n",
       "      <td>0.780618</td>\n",
       "      <td>-0.055180</td>\n",
       "      <td>-0.101664</td>\n",
       "      <td>0.003742</td>\n",
       "      <td>-0.034919</td>\n",
       "    </tr>\n",
       "    <tr>\n",
       "      <th>39997</th>\n",
       "      <td>-0.258774</td>\n",
       "      <td>-0.427603</td>\n",
       "      <td>-0.358374</td>\n",
       "      <td>0.072386</td>\n",
       "      <td>-0.126380</td>\n",
       "    </tr>\n",
       "    <tr>\n",
       "      <th>39998</th>\n",
       "      <td>-0.054871</td>\n",
       "      <td>0.233206</td>\n",
       "      <td>0.115173</td>\n",
       "      <td>-0.107147</td>\n",
       "      <td>-0.048017</td>\n",
       "    </tr>\n",
       "    <tr>\n",
       "      <th>39999</th>\n",
       "      <td>0.785969</td>\n",
       "      <td>-0.057686</td>\n",
       "      <td>-0.116924</td>\n",
       "      <td>-0.012006</td>\n",
       "      <td>-0.021273</td>\n",
       "    </tr>\n",
       "  </tbody>\n",
       "</table>\n",
       "<p>40000 rows × 5 columns</p>\n",
       "</div>"
      ],
      "text/plain": [
       "           dim1      dim2      dim3      dim4      dim5\n",
       "0     -0.120500 -0.189132 -0.020649  0.231255  0.089698\n",
       "1     -0.018106 -0.030622  0.239225 -0.197513  0.029345\n",
       "2     -0.073475 -0.054289  0.149792 -0.241656 -0.032967\n",
       "3     -0.218399 -0.342125 -0.273788  0.015312 -0.091625\n",
       "4     -0.026885 -0.143897  0.078570  0.298427  0.014897\n",
       "...         ...       ...       ...       ...       ...\n",
       "39995 -0.063457 -0.052466  0.167950 -0.143063  0.240022\n",
       "39996  0.780618 -0.055180 -0.101664  0.003742 -0.034919\n",
       "39997 -0.258774 -0.427603 -0.358374  0.072386 -0.126380\n",
       "39998 -0.054871  0.233206  0.115173 -0.107147 -0.048017\n",
       "39999  0.785969 -0.057686 -0.116924 -0.012006 -0.021273\n",
       "\n",
       "[40000 rows x 5 columns]"
      ]
     },
     "execution_count": 27,
     "metadata": {},
     "output_type": "execute_result"
    }
   ],
   "source": [
    "df_final"
   ]
  },
  {
   "cell_type": "code",
   "execution_count": null,
   "metadata": {},
   "outputs": [],
   "source": []
  }
 ],
 "metadata": {
  "kernelspec": {
   "display_name": "mlops",
   "language": "python",
   "name": "python3"
  },
  "language_info": {
   "codemirror_mode": {
    "name": "ipython",
    "version": 3
   },
   "file_extension": ".py",
   "mimetype": "text/x-python",
   "name": "python",
   "nbconvert_exporter": "python",
   "pygments_lexer": "ipython3",
   "version": "3.11.7"
  }
 },
 "nbformat": 4,
 "nbformat_minor": 2
}
