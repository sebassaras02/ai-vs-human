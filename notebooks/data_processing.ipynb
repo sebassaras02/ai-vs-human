{
 "cells": [
  {
   "cell_type": "code",
   "execution_count": 1,
   "metadata": {},
   "outputs": [],
   "source": [
    "import numpy as np\n",
    "import pandas as pd"
   ]
  },
  {
   "cell_type": "code",
   "execution_count": 23,
   "metadata": {},
   "outputs": [],
   "source": [
    "# df = pd.read_parquet('../data/AI_Human.parquet')"
   ]
  },
  {
   "cell_type": "code",
   "execution_count": 3,
   "metadata": {},
   "outputs": [],
   "source": [
    "import sys"
   ]
  },
  {
   "cell_type": "code",
   "execution_count": 4,
   "metadata": {},
   "outputs": [],
   "source": [
    "sys.path.append('../src')"
   ]
  },
  {
   "cell_type": "code",
   "execution_count": 5,
   "metadata": {},
   "outputs": [],
   "source": [
    "%load_ext autoreload\n",
    "%autoreload 2"
   ]
  },
  {
   "cell_type": "code",
   "execution_count": 10,
   "metadata": {},
   "outputs": [],
   "source": [
    "from utils.text_processing import TextProcessing"
   ]
  },
  {
   "cell_type": "code",
   "execution_count": 11,
   "metadata": {},
   "outputs": [],
   "source": [
    "text_cleaner = TextProcessing(\"english\")"
   ]
  },
  {
   "cell_type": "code",
   "execution_count": 22,
   "metadata": {},
   "outputs": [],
   "source": [
    "# df_final = text_cleaner.fit_transform(df.sample(40000, random_state=42))"
   ]
  },
  {
   "cell_type": "code",
   "execution_count": 21,
   "metadata": {},
   "outputs": [],
   "source": [
    "df_final.to_parquet('../data/AI_Human_cleaned.parquet', index=False)"
   ]
  },
  {
   "cell_type": "code",
   "execution_count": 24,
   "metadata": {},
   "outputs": [],
   "source": [
    "del df_final, df"
   ]
  },
  {
   "cell_type": "code",
   "execution_count": 25,
   "metadata": {},
   "outputs": [],
   "source": [
    "df = pd.read_parquet('../data/AI_Human_cleaned.parquet')"
   ]
  },
  {
   "cell_type": "code",
   "execution_count": 26,
   "metadata": {},
   "outputs": [
    {
     "data": {
      "text/html": [
       "<div>\n",
       "<style scoped>\n",
       "    .dataframe tbody tr th:only-of-type {\n",
       "        vertical-align: middle;\n",
       "    }\n",
       "\n",
       "    .dataframe tbody tr th {\n",
       "        vertical-align: top;\n",
       "    }\n",
       "\n",
       "    .dataframe thead th {\n",
       "        text-align: right;\n",
       "    }\n",
       "</style>\n",
       "<table border=\"1\" class=\"dataframe\">\n",
       "  <thead>\n",
       "    <tr style=\"text-align: right;\">\n",
       "      <th></th>\n",
       "      <th>text</th>\n",
       "      <th>generated</th>\n",
       "      <th>processed_text</th>\n",
       "    </tr>\n",
       "  </thead>\n",
       "  <tbody>\n",
       "    <tr>\n",
       "      <th>0</th>\n",
       "      <td>Real or Fake FeelingsImagine being able to det...</td>\n",
       "      <td>0.0</td>\n",
       "      <td>real fake feelingsimagin abl detect exactli ho...</td>\n",
       "    </tr>\n",
       "    <tr>\n",
       "      <th>1</th>\n",
       "      <td>Seeking multiple opinions can help you make be...</td>\n",
       "      <td>0.0</td>\n",
       "      <td>seek multipl opinion help make better choic ge...</td>\n",
       "    </tr>\n",
       "    <tr>\n",
       "      <th>2</th>\n",
       "      <td>ADDRESS_NAMEFebruary  Dear TEACHER_NAMEI think...</td>\n",
       "      <td>0.0</td>\n",
       "      <td>address_namefebruari dear teacher_namei think ...</td>\n",
       "    </tr>\n",
       "    <tr>\n",
       "      <th>3</th>\n",
       "      <td>Dear TEACHER_NAMETEACHER_NAME I Believe that c...</td>\n",
       "      <td>0.0</td>\n",
       "      <td>dear teacher_nameteacher_nam believ cell phone...</td>\n",
       "    </tr>\n",
       "    <tr>\n",
       "      <th>4</th>\n",
       "      <td>Do you believe that there is a computer that c...</td>\n",
       "      <td>0.0</td>\n",
       "      <td>believ comput examin feel well believ comput i...</td>\n",
       "    </tr>\n",
       "    <tr>\n",
       "      <th>...</th>\n",
       "      <td>...</td>\n",
       "      <td>...</td>\n",
       "      <td>...</td>\n",
       "    </tr>\n",
       "    <tr>\n",
       "      <th>39995</th>\n",
       "      <td>IntroductionHey everyone I just read this amaz...</td>\n",
       "      <td>1.0</td>\n",
       "      <td>introductionhey everyon read amaz articl guy n...</td>\n",
       "    </tr>\n",
       "    <tr>\n",
       "      <th>39996</th>\n",
       "      <td>The system of Electoral College is being alway...</td>\n",
       "      <td>0.0</td>\n",
       "      <td>system elector colleg alway use presid elect e...</td>\n",
       "    </tr>\n",
       "    <tr>\n",
       "      <th>39997</th>\n",
       "      <td>Dear TEACHER_NAMEI think you should choose her...</td>\n",
       "      <td>0.0</td>\n",
       "      <td>dear teacher_namei think choos first polici ac...</td>\n",
       "    </tr>\n",
       "    <tr>\n",
       "      <th>39998</th>\n",
       "      <td>Phones  DrivingSmartphones have not been aroun...</td>\n",
       "      <td>0.0</td>\n",
       "      <td>phone drivingsmartphon around long time huge i...</td>\n",
       "    </tr>\n",
       "    <tr>\n",
       "      <th>39999</th>\n",
       "      <td>Senator of the State of Florida The Electoral ...</td>\n",
       "      <td>0.0</td>\n",
       "      <td>senat state florida elector colleg part countr...</td>\n",
       "    </tr>\n",
       "  </tbody>\n",
       "</table>\n",
       "<p>40000 rows × 3 columns</p>\n",
       "</div>"
      ],
      "text/plain": [
       "                                                    text  generated  \\\n",
       "0      Real or Fake FeelingsImagine being able to det...        0.0   \n",
       "1      Seeking multiple opinions can help you make be...        0.0   \n",
       "2      ADDRESS_NAMEFebruary  Dear TEACHER_NAMEI think...        0.0   \n",
       "3      Dear TEACHER_NAMETEACHER_NAME I Believe that c...        0.0   \n",
       "4      Do you believe that there is a computer that c...        0.0   \n",
       "...                                                  ...        ...   \n",
       "39995  IntroductionHey everyone I just read this amaz...        1.0   \n",
       "39996  The system of Electoral College is being alway...        0.0   \n",
       "39997  Dear TEACHER_NAMEI think you should choose her...        0.0   \n",
       "39998  Phones  DrivingSmartphones have not been aroun...        0.0   \n",
       "39999  Senator of the State of Florida The Electoral ...        0.0   \n",
       "\n",
       "                                          processed_text  \n",
       "0      real fake feelingsimagin abl detect exactli ho...  \n",
       "1      seek multipl opinion help make better choic ge...  \n",
       "2      address_namefebruari dear teacher_namei think ...  \n",
       "3      dear teacher_nameteacher_nam believ cell phone...  \n",
       "4      believ comput examin feel well believ comput i...  \n",
       "...                                                  ...  \n",
       "39995  introductionhey everyon read amaz articl guy n...  \n",
       "39996  system elector colleg alway use presid elect e...  \n",
       "39997  dear teacher_namei think choos first polici ac...  \n",
       "39998  phone drivingsmartphon around long time huge i...  \n",
       "39999  senat state florida elector colleg part countr...  \n",
       "\n",
       "[40000 rows x 3 columns]"
      ]
     },
     "execution_count": 26,
     "metadata": {},
     "output_type": "execute_result"
    }
   ],
   "source": [
    "df"
   ]
  }
 ],
 "metadata": {
  "kernelspec": {
   "display_name": "mlops",
   "language": "python",
   "name": "python3"
  },
  "language_info": {
   "codemirror_mode": {
    "name": "ipython",
    "version": 3
   },
   "file_extension": ".py",
   "mimetype": "text/x-python",
   "name": "python",
   "nbconvert_exporter": "python",
   "pygments_lexer": "ipython3",
   "version": "3.11.7"
  }
 },
 "nbformat": 4,
 "nbformat_minor": 2
}
